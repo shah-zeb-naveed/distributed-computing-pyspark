{
  "nbformat": 4,
  "nbformat_minor": 0,
  "metadata": {
    "colab": {
      "name": "A3.ipynb",
      "provenance": [],
      "collapsed_sections": []
    },
    "kernelspec": {
      "display_name": "Python 3",
      "language": "python",
      "name": "python3"
    },
    "language_info": {
      "codemirror_mode": {
        "name": "ipython",
        "version": 3
      },
      "file_extension": ".py",
      "mimetype": "text/x-python",
      "name": "python",
      "nbconvert_exporter": "python",
      "pygments_lexer": "ipython3",
      "version": "3.6.8"
    }
  },
  "cells": [
    {
      "cell_type": "markdown",
      "metadata": {
        "id": "4yIKQ-LR5nBk"
      },
      "source": [
        "## CS431/631 Data Intensive Distributed Analytics\n",
        "### Winter 2021 - Assignment 3\n",
        "---"
      ]
    },
    {
      "cell_type": "markdown",
      "metadata": {
        "id": "iCp5Oj1e5nBn"
      },
      "source": [
        "**Please edit this (text) cell to provide your name and UW student ID number!**\n",
        "* **Name:** Shahzeb Naveed\n",
        "* **ID:** 20789222"
      ]
    },
    {
      "cell_type": "markdown",
      "metadata": {
        "id": "vdL9NkD55nBo"
      },
      "source": [
        "---\n",
        "#### Overview\n",
        "For this assignment, you will be using Python and Spark to perform some graph analysis, using a graph of the Gnutella server network.   In this graph, each node represents a server, and each (directed) edge represents a connection between servers in Gnutella's peer-to-peer network.  The input file for this assignment, `p2p-Gnutella08-adj.txt`, represents the graph as an adjacency list.   Each server (node) is identified by a unique number, and each line in the file gives the adjacency list for a single server.\n",
        "For example, this line:\n",
        "> 91\t243\t1923\t2194\n",
        "\n",
        "gives the adjacency list for server `91`.   It indicates that there are edges from server `91` to servers `243`, `1923`, and `2194`.    According to the Stanford Network Analysis Project, which collected these data, [the graph includes 6301 servers and 20777 edges](http://snap.stanford.edu/data/p2p-Gnutella08.html).\n",
        "\n",
        "Run the following block to install Spark and download the input file."
      ]
    },
    {
      "cell_type": "code",
      "metadata": {
        "id": "3PNw3CWW5nBp"
      },
      "source": [
        "!apt-get update -qq > /dev/null\n",
        "!apt-get install openjdk-8-jdk-headless -qq > /dev/null\n",
        "!wget -q https://downloads.apache.org/spark/spark-2.4.7/spark-2.4.7-bin-hadoop2.7.tgz\n",
        "!tar xf spark-2.4.7-bin-hadoop2.7.tgz\n",
        "!pip install -q findspark\n",
        "!wget -q https://student.cs.uwaterloo.ca/~cs451/content/cs431/p2p-Gnutella08-adj.txt"
      ],
      "execution_count": 1,
      "outputs": []
    },
    {
      "cell_type": "markdown",
      "metadata": {
        "id": "6rnFWG115nBq"
      },
      "source": [
        "and then create a `SparkContext`:"
      ]
    },
    {
      "cell_type": "code",
      "metadata": {
        "id": "0kx1nY435nBr"
      },
      "source": [
        "import os\n",
        "os.environ[\"JAVA_HOME\"] = \"/usr/lib/jvm/java-8-openjdk-amd64\"\n",
        "os.environ[\"SPARK_HOME\"] = \"/content/spark-2.4.7-bin-hadoop2.7\"\n",
        "\n",
        "import findspark\n",
        "findspark.init()\n",
        "\n",
        "from pyspark import SparkContext, SparkConf\n",
        "\n",
        "spark_conf = SparkConf()\\\n",
        "  .setAppName(\"YourTest\")\\\n",
        "  .setMaster(\"local[*]\")\n",
        "\n",
        "sc = SparkContext.getOrCreate(spark_conf)"
      ],
      "execution_count": 2,
      "outputs": []
    },
    {
      "cell_type": "markdown",
      "metadata": {
        "id": "FsQFCPO85nBs"
      },
      "source": [
        "---\n",
        "### Important\n",
        "\n",
        "###### The questions that follow ask you to implement functions whose prototypes are given to you. Do **NOT** change the prototypes of the functions. Do **NOT** write code outside of functions. All necessary code should be included in the function body (except for import statements). You may declare functions inside of the function body. When marking, we will execute your code by calling the functions from an external program, which is why your code cannot rely on statements running outside functions. Please remove any call to the functions that you may have introduced for test purposes before submitting your notebook."
      ]
    },
    {
      "cell_type": "markdown",
      "metadata": {
        "id": "x2xfj_3e5nBt"
      },
      "source": [
        "---\n",
        "#### Question 1  (6/24 marks):\n",
        "\n",
        "To get warmed up, you should first write Spark code to confirm or determine some basic properties of the Gnutella graph.  Write code in the provided functions that will return answers to the following questions, as specified in each function's documentation:\n",
        "- How many nodes and edges are there in the graph?  (This should confirm the numbers given above.)\n",
        "- How many nodes of each outdegree are there? That is, how many nodes have no outgoing edges, how many have one outgoing edge, how many have two outgoing edges, and so on?\n",
        "- How many nodes of each indegree are there?\n",
        "\n",
        "You should use Spark to answer these questions.   Do *not* load the entire graph into your Python driver program."
      ]
    },
    {
      "cell_type": "code",
      "metadata": {
        "id": "TnoJMCQY5nBu"
      },
      "source": [
        "def num_nodes_edges():\n",
        "    \"\"\"Returns a tuple (num_nodes, num_edges)\"\"\"\n",
        "    #### Your code for Question 1.1 should go here\n",
        "\n",
        "    def tokenize_tabs(s):\n",
        "      return s.split('\\t')\n",
        "\n",
        "    file = \"p2p-Gnutella08-adj.txt\"\n",
        "    text_file = sc.textFile(file)\n",
        "    text_file.cache()\n",
        "\n",
        "    # Tokenize and organize; cache() for performance because data is reused\n",
        "    data = text_file.map(lambda x: tokenize_tabs(x)).map(lambda x: (x[0], x[1:]))\n",
        "    data.cache()\n",
        "\n",
        "    # Count nodes\n",
        "    num_nodes = data.count()\n",
        "\n",
        "    # Count edges\n",
        "    num_edges = data.map(lambda x: (x[0], len(x[1]))).values().sum()\n",
        "\n",
        "    return (num_nodes, num_edges)\n",
        "    \n",
        "    \n",
        "def out_counts():\n",
        "    \"\"\"Returns a dictionary where the keys are the outdegrees, and the \n",
        "    values are the number of nodes of the corresponding outdegree \"\"\"\n",
        "    #### Your code for Question 1.2 should go here\n",
        "\n",
        "    def tokenize_tabs(s):\n",
        "      return s.split('\\t')\n",
        "\n",
        "    file = \"p2p-Gnutella08-adj.txt\"\n",
        "    text_file = sc.textFile(file)\n",
        "    text_file.cache()\n",
        "\n",
        "    # Tokenize and organize\n",
        "    data = text_file.map(lambda x: tokenize_tabs(x)).map(lambda x: (x[0], x[1:]))\n",
        "\n",
        "    # Count out-degree\n",
        "    outdegree_dict = data.map(lambda x: (len(x[1]), x[0])).groupByKey().mapValues(len).sortByKey().collect()\n",
        "\n",
        "    return dict(outdegree_dict)\n",
        "    \n",
        "\n",
        "def in_counts():\n",
        "    \"\"\"Returns a dictionary where the keys are the indegrees, and the \n",
        "    values are the number of nodes of the corresponding indegree \"\"\"\n",
        "    #### Your code for Question 1.3 should go here\n",
        "\n",
        "    def tokenize_tabs(s):\n",
        "      return s.split('\\t')\n",
        "\n",
        "    file = \"p2p-Gnutella08-adj.txt\"\n",
        "    text_file = sc.textFile(file)\n",
        "    text_file.cache()\n",
        "\n",
        "    # Tokenize and organize\n",
        "    data = text_file.map(lambda x: tokenize_tabs(x)).map(lambda x: (x[0], x[1:]))\n",
        "\n",
        "    # Count in_degree for every key\n",
        "    in_degree = data.flatMap(lambda x: x[1]).map(lambda x: (str(x), 1)).reduceByKey(lambda x,y: x+y)\n",
        "    \n",
        "    # Groupby in_degree\n",
        "    in_degree_dict = in_degree.map(lambda x: (x[1], x[0])).groupByKey().mapValues(len).sortByKey().collect()\n",
        "    \n",
        "    return dict(in_degree_dict)"
      ],
      "execution_count": 3,
      "outputs": []
    },
    {
      "cell_type": "markdown",
      "metadata": {
        "id": "jNp6bYDY5nBv"
      },
      "source": [
        "---\n",
        "Your main objective for this assignment is to perform *single source personalized page rank* over the Gnutella graph.  To get started, you should make sure that you have a clear understanding of ordinary (i.e., non-personalized) page rank.  Read the description of page rank in Section 5.3 of [the course textbook](http://mapreduce.cc/).   Personalized page rank is like ordinary page rank except:\n",
        "- One node in the graph is designated as the *source* node. Personalized page rank is performed with respect to that source node.\n",
        "- Personalized page rank is initialized by assigning all probability mass to the source node, and none to the other nodes. In contrast, ordinary page rank is initialized by giving all nodes the same probability mass.\n",
        "- Whenever personalized page rank makes a random jump, it jumps back to the source node. In contrast, ordinary page rank may jump to any node.\n",
        "- In personalized page rank, all probability mass lost dangling nodes is put back into the source nodes.  In ordinary page rank, lost mass is distributed evenly over all nodes.\n",
        "\n",
        "#### Question 2  (10/24 marks):\n",
        "\n",
        "Your task is to write a Spark program to perform personalized page rank over the Gnutella graph for a specified number of iterations, and of course a specific node. The function you will implement takes three input values:\n",
        "- source node id (a non-negative integer)\n",
        "- iteration count (a positive integer)\n",
        "- random jump factor value (a float between 0 and 1) - This is 1-B as introduced in the lecture.\n",
        "\n",
        "The function should perform personalized page rank, with respect to the specified source node, over the Gnutella graph, for the specified number of iterations, using Spark.\n",
        "The output of your function should be a list of the 10 nodes with the highest personalized page rank with respect to the given source. For each of the 10 nodes, return the node's id and page rank value as a tuple. The list returned by the function should therefore look something like this: `[(node_id_1, highest_pagerank_value), ..., (node_id_10, 10th_highest_pagerank_value)]`"
      ]
    },
    {
      "cell_type": "code",
      "metadata": {
        "id": "-a0OAZh6z3-k"
      },
      "source": [
        "def personalized_page_rank(source_node_id, num_iterations, jump_factor):\r\n",
        "    \"\"\"Returns a list of the 10 nodes with the highest page rank value along with their value, as tuples\r\n",
        "    [(node_id_1, highest_pagerank_value), ..., (node_id_10, 10th_highest_pagerank_value)]\"\"\"\r\n",
        "    # your solution to Question 2 here\r\n",
        "\r\n",
        "    def tokenize_tabs(s):\r\n",
        "      return s.split('\\t')\r\n",
        "\r\n",
        "    def compute_contribs(page_rank, adjacency_list, source_node_id, jump_factor):\r\n",
        "      \r\n",
        "      if len(adjacency_list)!=0:\r\n",
        "        \r\n",
        "        # If a node has neighbours, contribute probability mass to them\r\n",
        "        for m in adjacency_list:\r\n",
        "          yield (m, ((1 - jump_factor) * page_rank) / len(adjacency_list))\r\n",
        "\r\n",
        "        # Jumps only to source node\r\n",
        "        yield (source_node_id, jump_factor * page_rank)\r\n",
        "\r\n",
        "      else:\r\n",
        "        # If a node has no neighbours, contribute to source node\r\n",
        "        yield (source_node_id, page_rank)\r\n",
        "\r\n",
        "    def convert_str_to_int_list(str_list):\r\n",
        "      return list(map(int, str_list))\r\n",
        "      \r\n",
        "    # Read file\r\n",
        "    file = \"p2p-Gnutella08-adj.txt\"\r\n",
        "    text_file = sc.textFile(file)\r\n",
        "\r\n",
        "    # Get graph structure\r\n",
        "    graph = text_file.map(lambda x: tokenize_tabs(x)).map(lambda x: (int(x[0]), convert_str_to_int_list(x[1:])))\r\n",
        "    graph.cache()\r\n",
        "\r\n",
        "    # Init probabilities\r\n",
        "    page_ranks = graph.map(lambda x: (x[0], 1) if x[0] == source_node_id else ((x[0], 0)))\r\n",
        "\r\n",
        "    # Keep updating probabilities\r\n",
        "    for i in range(num_iterations):\r\n",
        "      graph_with_ranks = graph.join(page_ranks)\r\n",
        "      scores = graph_with_ranks.flatMap(lambda x: compute_contribs(page_rank=x[1][1], adjacency_list=x[1][0], source_node_id=source_node_id, jump_factor=jump_factor))\r\n",
        "      page_ranks = scores.reduceByKey(lambda x,y: x+y)\r\n",
        "\r\n",
        "    sorted = page_ranks.map(lambda x: (x[1], x[0])).sortByKey(False).map(lambda x: (x[1], x[0]))\r\n",
        "\r\n",
        "    return sorted.take(10)"
      ],
      "execution_count": 4,
      "outputs": []
    },
    {
      "cell_type": "markdown",
      "metadata": {
        "id": "RmZAajwV5nBw"
      },
      "source": [
        "---\n",
        "#### Question 3  (4/24 marks):\n",
        "\n",
        "For the previous question, you implemented personalized page rank that ran for a specified number of iterations.  However, it is also common to write iterative algorithms that run until some specified termination condition is reached.\n",
        "For example, for page rank, suppose the $p_i(x)$ represents the probability mass assigned to node $x$ after the $i$th iteration of the algorithm.  ($p_0(x)$ is the initial probability mass of node $x$.)   We define the change of $x$'s probability mass on the $i$th iteration as $\\lvert p_i(x)-p_{i-1}(x) \\rvert$.   Then, we can iterate personalized page rank until the maximum (over all nodes) change is less than a specified threshold, i.e, until all nodes' page ranks have converged.\n",
        "\n",
        "For this question, modify your personalized page rank implementation from Question 2 so that it iterates until the \n",
        "maximum node change is less than $\\frac{0.5}{N}$, where $N$ represents the number of nodes in the graph.\n",
        "This version of the function should take only two inputs: the source node id and the random jump factor."
      ]
    },
    {
      "cell_type": "code",
      "metadata": {
        "id": "whRf8BnZ5nBx"
      },
      "source": [
        "def personalized_page_rank_stopping_criterion(source_node_id, jump_factor):\n",
        "    \"\"\"Returns a list of the 10 nodes with the highest page rank value along with their value, as tuples\n",
        "    [(node_id_1, highest_pagerank_value), ..., (node_id_10, 10th_highest_pagerank_value)]\"\"\"\n",
        "    # your solution to Question 3 here\n",
        "\n",
        "    def tokenize_tabs(s):\n",
        "      return s.split('\\t')\n",
        "\n",
        "    def compute_contribs(page_rank, adjacency_list, source_node_id, jump_factor):\n",
        "      \n",
        "      if len(adjacency_list)!=0:\n",
        "        \n",
        "        # If a node has neighbours, contribute probability mass to them\n",
        "        for m in adjacency_list:\n",
        "          yield (m, ((1 - jump_factor) * page_rank) / len(adjacency_list))\n",
        "\n",
        "        # Jumps only to source node\n",
        "        yield (source_node_id, jump_factor * page_rank)\n",
        "\n",
        "      else:\n",
        "        # If a node has no neighbours, contribute to source node\n",
        "        yield (source_node_id, page_rank)\n",
        "\n",
        "    def convert_str_to_int_list(str_list):\n",
        "      return list(map(int, str_list))\n",
        "      \n",
        "    # Read file\n",
        "    file = \"p2p-Gnutella08-adj.txt\"\n",
        "    text_file = sc.textFile(file)\n",
        "    text_file.cache() # cache or else it will be computed twice\n",
        "\n",
        "    # Get graph structure\n",
        "    graph = text_file.map(lambda x: tokenize_tabs(x)).map(lambda x: (int(x[0]), convert_str_to_int_list(x[1:])))\n",
        "    graph.cache()\n",
        "\n",
        "    # Get number of nodes and calculate threshold\n",
        "    nodes = text_file.count()\n",
        "    threshold = 0.5 / nodes\n",
        "\n",
        "    # Init probabilities\n",
        "    page_ranks = graph.map(lambda x: (x[0], 1) if x[0] == source_node_id else ((x[0], 0)))\n",
        "    \n",
        "    # Keep updating page ranks until they have converged\n",
        "    while(True):\n",
        "      graph_with_ranks = graph.join(page_ranks)\n",
        "      scores = graph_with_ranks.flatMap(lambda x: compute_contribs(page_rank=x[1][1], adjacency_list=x[1][0], source_node_id=source_node_id, jump_factor=jump_factor))\n",
        "      page_ranks_new = scores.reduceByKey(lambda x,y: x+y)\n",
        "      page_ranks_comparison = page_ranks.join(page_ranks_new).map(lambda x: (x[0], x[1][0], x[1][1], abs(x[1][1] - x[1][0])))\n",
        "      page_ranks = page_ranks_new\n",
        "      max_change = page_ranks_comparison.map(lambda x: (x[0], x[3])).values().max()\n",
        "      \n",
        "      if max_change < threshold:\n",
        "        break\n",
        "\n",
        "    sorted = page_ranks.map(lambda x: (x[1], x[0])).sortByKey(False).map(lambda x: (x[1], x[0]))\n",
        "\n",
        "    return sorted.take(10)"
      ],
      "execution_count": 6,
      "outputs": []
    },
    {
      "cell_type": "markdown",
      "metadata": {
        "id": "suYKj6_S5nBy"
      },
      "source": [
        "---\n",
        "#### Question 4  (4/24 marks):\n",
        "\n",
        "Spark provides the ability to *cache* RDDs.   This is useful when an RDD will be used more than once.   Instead of computing the same RDD multiple times, it can be computed once, cached, and then re-used from the cache.   Read about caching in the Spark textbook, or in the [persistence section of the Spark RDD programming guide](https://spark.apache.org/docs/latest/rdd-programming-guide.html#rdd-persistence).   Caching can be particularly effective for iterative Spark applications, like those you are writing for this assignment.\n",
        "\n",
        "For this question, go back to the code that you wrote to answer Question 3, and add caching.   (Caching will not affect the functionality of your code, i.e., what it computes.   It should only affect performance.)   Don't worry about different persistence levels.   Just use `cache()`, which caches RDDs at the default persistence level.\n",
        "\n",
        "In addition to adding `cache()` calls in your code, use the text cell below to briefly explain how you decided which RDDs to cache. \n",
        "\n",
        "If you were not able to finish Question 3, add caching annotations to your solution for Question 2 instead."
      ]
    },
    {
      "cell_type": "markdown",
      "metadata": {
        "id": "A_fRhytv5nBy"
      },
      "source": [
        "---\n",
        "#### Your answer to Question 4:\n",
        "\n",
        "I cached two RDDs. The `graph` rdd because it has to be resued in every loop so if it's cached, it does not have to be recomputed every time. The `text_file` rdd is also cached because in Question 3, it will otherwise be computed twice, once while calculating threshold and once when the `page_ranks_new` is computed for the first time (first time only because graph is cached and we won't be needing the `text_file` in subsequent runs of the loop. \n"
      ]
    },
    {
      "cell_type": "markdown",
      "metadata": {
        "id": "4AAWthLp5nBz"
      },
      "source": [
        "---\n",
        "Don't forget to save your workbook!   When you are finished and you are ready to submit your assignment, download your notebook file (.ipynb) from the hub to your machine, and then follow the submission instructions in the assignment."
      ]
    }
  ]
}